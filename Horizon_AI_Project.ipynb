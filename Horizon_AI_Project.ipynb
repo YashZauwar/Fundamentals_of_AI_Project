{
 "cells": [
  {
   "cell_type": "markdown",
   "id": "eb67575c",
   "metadata": {},
   "source": [
    "###### Signal Generator for making a market view for Index Options of Indian Stock Market Benchmark Index NIFTY 50 "
   ]
  },
  {
   "cell_type": "markdown",
   "id": "5f21afc6",
   "metadata": {},
   "source": [
    "##### Fundamentals of Artificial Intelligence \n",
    "CSCE 5210 – SPRING 2022 – Academic Project\n",
    "\n",
    "Submitted by :\n",
    "\n",
    "Veeranjaneyulu Muppala 11532514\n",
    "\n",
    "Yash Zauwar\t11439929\n"
   ]
  },
  {
   "cell_type": "code",
   "execution_count": 1,
   "id": "d1cfb36b",
   "metadata": {},
   "outputs": [
    {
     "name": "stdout",
     "output_type": "stream",
     "text": [
      "nifty\n",
      "\u001b[93m ---------------------------------------------------------------------|\u001b[00m\n",
      "\u001b[95m Nifty        => \u001b[00m\u001b[94m  Last Price: \u001b[00m\u001b[1m 17069.1\u001b[0m\u001b[94m  Nearest Strike: \u001b[00m\u001b[1m 17100\u001b[0m\n",
      "\u001b[93m ---------------------------------------------------------------------|\u001b[00m\n",
      "05-May-2022 16600 CE [ \u001b[1m        783\u001b[0m ] PE [ \u001b[1m      38934\u001b[0m ]\n",
      "05-May-2022 16650 CE [ \u001b[1m        231\u001b[0m ] PE [ \u001b[1m      10914\u001b[0m ]\n",
      "05-May-2022 16700 CE [ \u001b[1m       1376\u001b[0m ] PE [ \u001b[1m      48548\u001b[0m ]\n",
      "05-May-2022 16750 CE [ \u001b[1m        205\u001b[0m ] PE [ \u001b[1m      17028\u001b[0m ]\n",
      "05-May-2022 16800 CE [ \u001b[1m       4609\u001b[0m ] PE [ \u001b[1m      72253\u001b[0m ]\n",
      "05-May-2022 16850 CE [ \u001b[1m       1053\u001b[0m ] PE [ \u001b[1m      19817\u001b[0m ]\n",
      "05-May-2022 16900 CE [ \u001b[1m      14816\u001b[0m ] PE [ \u001b[1m      69262\u001b[0m ]\n",
      "05-May-2022 16950 CE [ \u001b[1m       6408\u001b[0m ] PE [ \u001b[1m      20440\u001b[0m ]\n",
      "05-May-2022 17000 CE [ \u001b[1m      66872\u001b[0m ] PE [ \u001b[1m     115802\u001b[0m ]\n",
      "05-May-2022 17050 CE [ \u001b[1m      18853\u001b[0m ] PE [ \u001b[1m      33079\u001b[0m ]\n",
      "05-May-2022 17100 CE [ \u001b[1m      64381\u001b[0m ] PE [ \u001b[1m      45417\u001b[0m ]\n",
      "05-May-2022 17150 CE [ \u001b[1m      18071\u001b[0m ] PE [ \u001b[1m       5211\u001b[0m ]\n",
      "05-May-2022 17200 CE [ \u001b[1m      62908\u001b[0m ] PE [ \u001b[1m      22186\u001b[0m ]\n",
      "05-May-2022 17250 CE [ \u001b[1m      31243\u001b[0m ] PE [ \u001b[1m       5293\u001b[0m ]\n",
      "05-May-2022 17300 CE [ \u001b[1m     100055\u001b[0m ] PE [ \u001b[1m      14651\u001b[0m ]\n",
      "05-May-2022 17350 CE [ \u001b[1m      41770\u001b[0m ] PE [ \u001b[1m       2649\u001b[0m ]\n",
      "05-May-2022 17400 CE [ \u001b[1m      92821\u001b[0m ] PE [ \u001b[1m       3315\u001b[0m ]\n",
      "05-May-2022 17450 CE [ \u001b[1m      28256\u001b[0m ] PE [ \u001b[1m        926\u001b[0m ]\n",
      "05-May-2022 17500 CE [ \u001b[1m     133787\u001b[0m ] PE [ \u001b[1m       7685\u001b[0m ]\n",
      "05-May-2022 17550 CE [ \u001b[1m      41783\u001b[0m ] PE [ \u001b[1m        679\u001b[0m ]\n",
      "\u001b[93m ---------------------------------------------------------------------|\u001b[00m\n",
      "\u001b[96m Major Resistance in Nifty:\u001b[00m17500\n",
      "\u001b[96m Major Support in Nifty:\u001b[00m17000\n"
     ]
    }
   ],
   "source": [
    "# Libraries\n",
    "import requests\n",
    "import json\n",
    "import math\n",
    "\n",
    "# defining to print colored text and background\n",
    "def strRed(skk):         return \"\\033[91m {}\\033[00m\".format(skk)\n",
    "def strGreen(skk):       return \"\\033[92m {}\\033[00m\".format(skk)\n",
    "def strYellow(skk):      return \"\\033[93m {}\\033[00m\".format(skk)\n",
    "def strLightPurple(skk): return \"\\033[94m {}\\033[00m\".format(skk)\n",
    "def strPurple(skk):      return \"\\033[95m {}\\033[00m\".format(skk)\n",
    "def strCyan(skk):        return \"\\033[96m {}\\033[00m\".format(skk)\n",
    "def strLightGray(skk):   return \"\\033[97m {}\\033[00m\".format(skk)\n",
    "def strBlack(skk):       return \"\\033[98m {}\\033[00m\".format(skk)\n",
    "def strBold(skk):        return \"\\033[1m {}\\033[0m\".format(skk)\n",
    "\n",
    "# Method to get nearest strike price\n",
    "def round_nearest(x,num=50): return int(math.ceil(float(x)/num)*num)\n",
    "def nearest_strike_bnf(x): return round_nearest(x,100)\n",
    "def nearest_strike_nf(x): return round_nearest(x,50)\n",
    "\n",
    "# Urls for fetching Data - obtained from National Stock Exchange\n",
    "url_oc      = \"https://www.nseindia.com/option-chain\"\n",
    "url_bnf     = 'https://www.nseindia.com/api/option-chain-indices?symbol=BANKNIFTY'\n",
    "url_nf      = 'https://www.nseindia.com/api/option-chain-indices?symbol=NIFTY'\n",
    "url_indices = \"https://www.nseindia.com/api/allIndices\"\n",
    "\n",
    "# Headers taken from chrome browser while accesing the website\n",
    "headers = {'user-agent': 'Mozilla/5.0 (Windows NT 10.0; Win64; x64) AppleWebKit/537.36 (KHTML, like Gecko) Chrome/80.0.3987.149 Safari/537.36',\n",
    "            'accept-language': 'en,gu;q=0.9,hi;q=0.8',\n",
    "            'accept-encoding': 'gzip, deflate, br'}\n",
    "\n",
    "#crearting an session\n",
    "sess = requests.Session()\n",
    "cookies = dict()\n",
    "\n",
    "# Local methods\n",
    "def set_cookie():\n",
    "    request = sess.get(url_oc, headers=headers, timeout=5)\n",
    "    cookies = dict(request.cookies)\n",
    "\n",
    "def get_data(url):\n",
    "    set_cookie()\n",
    "    response = sess.get(url, headers=headers, timeout=5, cookies=cookies)\n",
    "    if(response.status_code==401):\n",
    "        set_cookie()\n",
    "        response = sess.get(url_nf, headers=headers, timeout=5, cookies=cookies)\n",
    "    if(response.status_code==200):\n",
    "        return response.text\n",
    "    return \"\"\n",
    "\n",
    "def set_header():\n",
    "    global nf_ul\n",
    "    global nf_nearest\n",
    "    response_text = get_data(url_indices)\n",
    "    data = json.loads(response_text)\n",
    "    for index in data[\"data\"]:\n",
    "        if index[\"index\"]==\"NIFTY 50\":\n",
    "            nf_ul = index[\"last\"]\n",
    "            print(\"nifty\")\n",
    "    nf_nearest=nearest_strike_nf(nf_ul)\n",
    "\n",
    "# Showing Header in structured format with Last Price and Nearest Strike\n",
    "\n",
    "def print_header(index=\"\",ul=0,nearest=0):\n",
    "    print(strPurple( index.ljust(12,\" \") + \" => \")+ strLightPurple(\" Last Price: \") + strBold(str(ul)) + strLightPurple(\" Nearest Strike: \") + strBold(str(nearest)))\n",
    "\n",
    "def print_hr():\n",
    "    print(strYellow(\"|\".rjust(70,\"-\")))\n",
    "\n",
    "# Fetching CE and PE data based on Nearest Expiry Date\n",
    "def print_oi(num,step,nearest,url):\n",
    "    strike = nearest - (step*num)\n",
    "    start_strike = nearest - (step*num)\n",
    "    response_text = get_data(url)\n",
    "    data = json.loads(response_text)\n",
    "    currExpiryDate = data[\"records\"][\"expiryDates\"][0]\n",
    "    CE_d = []\n",
    "    for item in data['records']['data']:\n",
    "        if item[\"expiryDate\"] == currExpiryDate:\n",
    "            if item[\"strikePrice\"] == strike and item[\"strikePrice\"] < start_strike+(step*num*2):\n",
    "                #print(strCyan(str(item[\"strikePrice\"])) + strGreen(\" CE \") + \"[ \" + strBold(str(item[\"CE\"][\"openInterest\"]).rjust(10,\" \")) + \" ]\" + strRed(\" PE \")+\"[ \" + strBold(str(item[\"PE\"][\"openInterest\"]).rjust(10,\" \")) + \" ]\")\n",
    "                print(data[\"records\"][\"expiryDates\"][0] + \" \" + str(item[\"strikePrice\"]) + \" CE \" + \"[ \" + strBold(str(item[\"CE\"][\"openInterest\"]).rjust(10,\" \")) + \" ]\" + \" PE \" + \"[ \" + strBold(str(item[\"PE\"][\"openInterest\"]).rjust(10,\" \")) + \" ]\")\n",
    "                CE_d.append(item[\"strikePrice\"])\n",
    "                #print(item[\"strikePrice\"])\n",
    "                strike = strike + step\n",
    "                #print(CE_d[str(item[\"strikePrice\"])])\n",
    "        \n",
    "# Finding highest Open Interest of People's in CE based on CE data         \n",
    "def highest_oi_CE(num,step,nearest,url):\n",
    "    strike = nearest - (step*num)\n",
    "    start_strike = nearest - (step*num)\n",
    "    response_text = get_data(url)\n",
    "    data = json.loads(response_text)\n",
    "    currExpiryDate = data[\"records\"][\"expiryDates\"][0]\n",
    "    max_oi = 0\n",
    "    max_oi_strike = 0\n",
    "    for item in data['records']['data']:\n",
    "        if item[\"expiryDate\"] == currExpiryDate:\n",
    "            if item[\"strikePrice\"] == strike and item[\"strikePrice\"] < start_strike+(step*num*2):\n",
    "                if item[\"CE\"][\"openInterest\"] > max_oi:\n",
    "                    max_oi = item[\"CE\"][\"openInterest\"]\n",
    "                    max_oi_strike = item[\"strikePrice\"]\n",
    "                strike = strike + step\n",
    "    return max_oi_strike\n",
    "\n",
    "# Finding highest Open Interest of People's in PE based on PE data \n",
    "def highest_oi_PE(num,step,nearest,url):\n",
    "    strike = nearest - (step*num)\n",
    "    start_strike = nearest - (step*num)\n",
    "    response_text = get_data(url)\n",
    "    data = json.loads(response_text)\n",
    "    currExpiryDate = data[\"records\"][\"expiryDates\"][0]\n",
    "    max_oi = 0\n",
    "    max_oi_strike = 0\n",
    "    for item in data['records']['data']:\n",
    "        if item[\"expiryDate\"] == currExpiryDate:\n",
    "            if item[\"strikePrice\"] == strike and item[\"strikePrice\"] < start_strike+(step*num*2):\n",
    "                if item[\"PE\"][\"openInterest\"] > max_oi:\n",
    "                    max_oi = item[\"PE\"][\"openInterest\"]\n",
    "                    max_oi_strike = item[\"strikePrice\"]\n",
    "                strike = strike + step\n",
    "    return max_oi_strike\n",
    "\n",
    "def diff_in_CE_PE(num,step,nearest,url):\n",
    "    strike = nearest - (step*num)\n",
    "    start_strike = nearest - (step*num)\n",
    "    response_text = get_data(url)\n",
    "    data = json.loads(response_text)\n",
    "    currExpiryDate = data[\"records\"][\"expiryDates\"][0]\n",
    "    max_oi = 0\n",
    "    max_oi_strike = 0\n",
    "    for item in data['records']['data']:\n",
    "        if item[\"expiryDate\"] == currExpiryDate:\n",
    "            if item[\"strikePrice\"] == strike and item[\"strikePrice\"] < start_strike+(step*num*2):\n",
    "                if item[\"PE\"][\"openInterest\"] > max_oi:\n",
    "                    diff_in_ce_pe = item[\"PE\"][\"openInterest\"] - item[\"CE\"][\"openInterest\"]\n",
    "                    print(str(diff_in_ce_pe))\n",
    "                strike = strike + step\n",
    "    return diff_in_ce_pe\n",
    "\n",
    "\n",
    "set_header()\n",
    "print_hr()\n",
    "print_header(\"Nifty\",nf_ul,nf_nearest)\n",
    "print_hr()\n",
    "print_oi(10,50,nf_nearest,url_nf)\n",
    "print_hr()\n",
    "\n",
    "\n",
    "# Finding Highest OI in Call Option In Nifty\n",
    "nf_highestoi_CE = highest_oi_CE(10,50,nf_nearest,url_nf)\n",
    "\n",
    "# Finding Highet OI in Put Option In Nifty\n",
    "nf_highestoi_PE = highest_oi_PE(10,50,nf_nearest,url_nf)\n",
    "\n",
    "\n",
    "print(strCyan(str(\"Major Resistance in Nifty:\")) + str(nf_highestoi_CE))\n",
    "print(strCyan(str(\"Major Support in Nifty:\")) + str(nf_highestoi_PE))\n",
    "\n"
   ]
  },
  {
   "cell_type": "code",
   "execution_count": 2,
   "id": "c3019404",
   "metadata": {},
   "outputs": [],
   "source": [
    "def print_ce_data(num,step,nearest,url):\n",
    "    strike = nearest - (step*num)\n",
    "    start_strike = nearest - (step*num)\n",
    "    response_text = get_data(url)\n",
    "    data = json.loads(response_text)\n",
    "    currExpiryDate = data[\"records\"][\"expiryDates\"][0]\n",
    "    n_ce_data = []\n",
    "    for item in data['records']['data']:\n",
    "        if item[\"expiryDate\"] == currExpiryDate:\n",
    "            if item[\"strikePrice\"] == strike and item[\"strikePrice\"] < start_strike+(step*num*2):\n",
    "                strike = strike + step\n",
    "                n_ce_data.append(((item[\"CE\"][\"openInterest\"])))\n",
    "   # print(n_ce_data)\n",
    "    #print(n_pe_data)       \n",
    "    return n_ce_data\n",
    "\n",
    "def print_pe_data(num,step,nearest,url):\n",
    "    strike = nearest - (step*num)\n",
    "    start_strike = nearest - (step*num)\n",
    "    response_text = get_data(url)\n",
    "    data = json.loads(response_text)\n",
    "    currExpiryDate = data[\"records\"][\"expiryDates\"][0]\n",
    "    n_pe_data = []\n",
    "    n_strike_data = []\n",
    "    for item in data['records']['data']:\n",
    "        if item[\"expiryDate\"] == currExpiryDate:\n",
    "            if item[\"strikePrice\"] == strike and item[\"strikePrice\"] < start_strike+(step*num*2):\n",
    "                strike = strike + step\n",
    "                n_pe_data.append(((item[\"PE\"][\"openInterest\"])))\n",
    "   # print(n_ce_data)\n",
    "    #print(n_pe_data)       \n",
    "    return n_pe_data\n",
    "\n",
    "def print_ce_coi_data(num,step,nearest,url):\n",
    "    strike = nearest - (step*num)\n",
    "    start_strike = nearest - (step*num)\n",
    "    response_text = get_data(url)\n",
    "    data = json.loads(response_text)\n",
    "    currExpiryDate = data[\"records\"][\"expiryDates\"][0]\n",
    "    n_ce_coi_data = []\n",
    "    for item in data['records']['data']:\n",
    "        if item[\"expiryDate\"] == currExpiryDate:\n",
    "            if item[\"strikePrice\"] == strike and item[\"strikePrice\"] < start_strike+(step*num*2):\n",
    "                strike = strike + step\n",
    "                n_ce_coi_data.append(((item[\"CE\"][\"changeinOpenInterest\"])))\n",
    "   # print(n_ce_data)\n",
    "    #print(n_pe_data)       \n",
    "    return n_ce_coi_data\n",
    "\n",
    "def print_pe_coi_data(num,step,nearest,url):\n",
    "    strike = nearest - (step*num)\n",
    "    start_strike = nearest - (step*num)\n",
    "    response_text = get_data(url)\n",
    "    data = json.loads(response_text)\n",
    "    currExpiryDate = data[\"records\"][\"expiryDates\"][0]\n",
    "    n_pe_coi_data = []\n",
    "    #n_strike_data = []\n",
    "    for item in data['records']['data']:\n",
    "        if item[\"expiryDate\"] == currExpiryDate:\n",
    "            if item[\"strikePrice\"] == strike and item[\"strikePrice\"] < start_strike+(step*num*2):\n",
    "                strike = strike + step\n",
    "                n_pe_coi_data.append(((item[\"PE\"][\"changeinOpenInterest\"])))\n",
    "   # print(n_ce_data)\n",
    "    #print(n_pe_data)       \n",
    "    return n_pe_coi_data\n",
    "\n",
    "def print_strike_data(num,step,nearest,url):\n",
    "    strike = nearest - (step*num)\n",
    "    start_strike = nearest - (step*num)\n",
    "    response_text = get_data(url)\n",
    "    data = json.loads(response_text)\n",
    "    currExpiryDate = data[\"records\"][\"expiryDates\"][0]\n",
    "    n_strike_data = []\n",
    "    for item in data['records']['data']:\n",
    "        if item[\"expiryDate\"] == currExpiryDate:\n",
    "            if item[\"strikePrice\"] == strike and item[\"strikePrice\"] < start_strike+(step*num*2):\n",
    "                strike = strike + step\n",
    "                n_strike_data.append(((item[\"strikePrice\"])))\n",
    "   # print(n_ce_data)\n",
    "    #print(n_pe_data)       \n",
    "    return n_strike_data"
   ]
  },
  {
   "cell_type": "markdown",
   "id": "f1eac726",
   "metadata": {},
   "source": [
    "### Finding the Major Resistance and Major Support as per the current data"
   ]
  },
  {
   "cell_type": "code",
   "execution_count": 4,
   "id": "eef8e232",
   "metadata": {},
   "outputs": [
    {
     "name": "stdout",
     "output_type": "stream",
     "text": [
      "\u001b[96m Major Resistance in Nifty:\u001b[00m17500\n",
      "\u001b[96m Major Support in Nifty:\u001b[00m17000\n"
     ]
    }
   ],
   "source": [
    "print(strCyan(str(\"Major Resistance in Nifty:\")) + str(nf_highestoi_CE))\n",
    "print(strCyan(str(\"Major Support in Nifty:\")) + str(nf_highestoi_PE))"
   ]
  },
  {
   "cell_type": "markdown",
   "id": "c273a627",
   "metadata": {},
   "source": [
    "### Finding the Total OI on call, put and change in Open Interest in call and put as per current data "
   ]
  },
  {
   "cell_type": "code",
   "execution_count": 5,
   "id": "38e59a6d",
   "metadata": {
    "scrolled": true
   },
   "outputs": [
    {
     "name": "stdout",
     "output_type": "stream",
     "text": [
      " Total OI on CALL SIDE 730281\n",
      " Total OI on PUT SIDE 554089\n",
      " Total Change of OI on CALL SIDE 202235\n",
      " Total Change of OI on PUT SIDE 32776\n",
      "\u001b[91m SIGNAL GIVEN BY DATA IS SELL\u001b[00m\n"
     ]
    }
   ],
   "source": [
    "a = print_ce_data(10,50,nf_nearest,url_nf)\n",
    "#print(a)\n",
    "b = print_pe_data(10,50,nf_nearest,url_nf)\n",
    "#print(b)\n",
    "c=print_strike_data(10,50,nf_nearest,url_nf)\n",
    "#print(c)\n",
    "d = print_ce_coi_data(10,50,nf_nearest,url_nf)\n",
    "#print(d)\n",
    "e = print_pe_coi_data(10,50,nf_nearest,url_nf)\n",
    "#print(e)\n",
    "sum_ce_time = []\n",
    "sum_pe_time = []\n",
    "sum_oi_ce = 0;\n",
    "sum_oi_pe = 0;\n",
    "sum_ce = 0;\n",
    "sum_pe = 0; \n",
    "for i in range(0, len(a)):\n",
    "    sum_oi_ce = sum_oi_ce + a[i];  \n",
    "print(\" Total OI on CALL SIDE \" + str(sum_oi_ce));\n",
    "for i in range(0, len(b)):\n",
    "    sum_oi_pe = sum_oi_pe + b[i];  \n",
    "print(\" Total OI on PUT SIDE \" + str(sum_oi_pe));\n",
    "for i in range(0, len(d)):\n",
    "    sum_ce = sum_ce + d[i];  \n",
    "print(\" Total Change of OI on CALL SIDE \" + str(sum_ce));\n",
    "for i in range(0, len(e)):    \n",
    "    sum_pe = sum_pe + e[i];     \n",
    "print(\" Total Change of OI on PUT SIDE \" + str(sum_pe));\n",
    "if  sum_ce < sum_pe:\n",
    "    print(strGreen(str(\"SIGNAL GIVEN BY DATA IS BUY\")))\n",
    "    signal_by_oi = 'B' \n",
    "else:\n",
    "    print(strRed(str(\"SIGNAL GIVEN BY DATA IS SELL\")))\n",
    "    signal_by_oi = 'S' "
   ]
  },
  {
   "cell_type": "markdown",
   "id": "bef315f0",
   "metadata": {},
   "source": [
    "# Plotting a Visual Bar Graph where Red bars indicate the Resistance and Green bars indicate the support"
   ]
  },
  {
   "cell_type": "code",
   "execution_count": 6,
   "id": "4fc955f9",
   "metadata": {},
   "outputs": [
    {
     "data": {
      "image/png": "[encoded data removed]",
      "text/plain": [
       "<Figure size 1296x576 with 1 Axes>"
      ]
     },
     "metadata": {
      "needs_background": "light"
     },
     "output_type": "display_data"
    }
   ],
   "source": [
    "import numpy as np\n",
    "import matplotlib.pyplot as plt\n",
    "#storing the values in variables a,b,c\n",
    "a = print_ce_data(10,50,nf_nearest,url_nf)\n",
    "#print(a)\n",
    "b = print_pe_data(10,50,nf_nearest,url_nf)\n",
    "#print(b)\n",
    "c=print_strike_data(10,50,nf_nearest,url_nf)\n",
    "#print(c)\n",
    "# data to plot\n",
    "n_groups = 20\n",
    "# create plot\n",
    "index = np.arange(20)\n",
    "#printing graph for 20 strike prices\n",
    "plt.figure(figsize=(18,8))\n",
    "bar_width = 0.35\n",
    "rects1 = plt.bar(index, a, bar_width,color='r',label='CE')\n",
    "rects2 = plt.bar(index + bar_width, b, bar_width,color='g',label='PE')\n",
    "plt.xlabel('STRIKE')\n",
    "plt.ylabel('OI')\n",
    "plt.title('STRIKE VS OI')\n",
    "plt.xticks(index + bar_width, c)\n",
    "plt.show()"
   ]
  },
  {
   "cell_type": "markdown",
   "id": "cbcc93ea",
   "metadata": {},
   "source": [
    "# calculating Put Call Ratio"
   ]
  },
  {
   "cell_type": "code",
   "execution_count": 7,
   "id": "c1562a53",
   "metadata": {},
   "outputs": [
    {
     "name": "stdout",
     "output_type": "stream",
     "text": [
      "0.7587339667881268\n",
      "SIGNAL GIVEN BY PCR IS SELL\n"
     ]
    }
   ],
   "source": [
    "pcr =  sum_oi_pe/sum_oi_ce\n",
    "print(pcr)\n",
    "if pcr < 1:\n",
    "    print(\"SIGNAL GIVEN BY PCR IS SELL\")\n",
    "    signal_by_pcr = 'S'\n",
    "else:\n",
    "    print(\"SIGNAL GIVEN BY PCR IS BUY\")\n",
    "    signal_by_pcr = 'B'"
   ]
  },
  {
   "cell_type": "markdown",
   "id": "806e07fe",
   "metadata": {},
   "source": [
    "# Combining the Signal generated from Put Call Ratio and the Open Interest data to make a directional market view"
   ]
  },
  {
   "cell_type": "code",
   "execution_count": 8,
   "id": "80dc2ef0",
   "metadata": {},
   "outputs": [
    {
     "name": "stdout",
     "output_type": "stream",
     "text": [
      "THE FINAL SIGNAL AFTER COMBINING PCR AND OI Data is -- SELL\n"
     ]
    }
   ],
   "source": [
    "if (signal_by_oi == 'S' and signal_by_pcr == 'S'):\n",
    "    print(\"THE FINAL SIGNAL AFTER COMBINING PCR AND OI Data is -- SELL\")\n",
    "elif(signal_by_oi == 'B' and signal_by_pcr == 'B'):\n",
    "    print(\"THE FINAL SIGNAL AFTER COMBINING PCR AND OI Data is -- BUY\")\n",
    "else:\n",
    "    print(\"DERIVATIVE DATA HAS NO DIRECTIONAL VIEW : Please try after sometime\")"
   ]
  },
  {
   "cell_type": "code",
   "execution_count": null,
   "id": "c254bda8",
   "metadata": {},
   "outputs": [],
   "source": []
  }
 ],
 "metadata": {
  "kernelspec": {
   "display_name": "Python 3 (ipykernel)",
   "language": "python",
   "name": "python3"
  },
  "language_info": {
   "codemirror_mode": {
    "name": "ipython",
    "version": 3
   },
   "file_extension": ".py",
   "mimetype": "text/x-python",
   "name": "python",
   "nbconvert_exporter": "python",
   "pygments_lexer": "ipython3",
   "version": "3.9.7"
  }
 },
 "nbformat": 4,
 "nbformat_minor": 5
}
